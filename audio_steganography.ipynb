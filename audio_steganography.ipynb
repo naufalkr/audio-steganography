{
  "nbformat": 4,
  "nbformat_minor": 0,
  "metadata": {
    "colab": {
      "provenance": []
    },
    "kernelspec": {
      "name": "python3",
      "display_name": "Python 3"
    },
    "language_info": {
      "name": "python"
    }
  },
  "cells": [
    {
      "cell_type": "code",
      "execution_count": null,
      "metadata": {
        "colab": {
          "base_uri": "https://localhost:8080/"
        },
        "id": "TmU8RllCnxPP",
        "outputId": "c7ee9eaa-f055-406a-93f8-7eec00c65c97"
      },
      "outputs": [
        {
          "output_type": "stream",
          "name": "stdout",
          "text": [
            "Requirement already satisfied: librosa in /usr/local/lib/python3.10/dist-packages (0.10.2.post1)\n",
            "Requirement already satisfied: audioread>=2.1.9 in /usr/local/lib/python3.10/dist-packages (from librosa) (3.0.1)\n",
            "Requirement already satisfied: numpy!=1.22.0,!=1.22.1,!=1.22.2,>=1.20.3 in /usr/local/lib/python3.10/dist-packages (from librosa) (1.26.4)\n",
            "Requirement already satisfied: scipy>=1.2.0 in /usr/local/lib/python3.10/dist-packages (from librosa) (1.13.1)\n",
            "Requirement already satisfied: scikit-learn>=0.20.0 in /usr/local/lib/python3.10/dist-packages (from librosa) (1.5.2)\n",
            "Requirement already satisfied: joblib>=0.14 in /usr/local/lib/python3.10/dist-packages (from librosa) (1.4.2)\n",
            "Requirement already satisfied: decorator>=4.3.0 in /usr/local/lib/python3.10/dist-packages (from librosa) (4.4.2)\n",
            "Requirement already satisfied: numba>=0.51.0 in /usr/local/lib/python3.10/dist-packages (from librosa) (0.60.0)\n",
            "Requirement already satisfied: soundfile>=0.12.1 in /usr/local/lib/python3.10/dist-packages (from librosa) (0.12.1)\n",
            "Requirement already satisfied: pooch>=1.1 in /usr/local/lib/python3.10/dist-packages (from librosa) (1.8.2)\n",
            "Requirement already satisfied: soxr>=0.3.2 in /usr/local/lib/python3.10/dist-packages (from librosa) (0.5.0.post1)\n",
            "Requirement already satisfied: typing-extensions>=4.1.1 in /usr/local/lib/python3.10/dist-packages (from librosa) (4.12.2)\n",
            "Requirement already satisfied: lazy-loader>=0.1 in /usr/local/lib/python3.10/dist-packages (from librosa) (0.4)\n",
            "Requirement already satisfied: msgpack>=1.0 in /usr/local/lib/python3.10/dist-packages (from librosa) (1.1.0)\n",
            "Requirement already satisfied: packaging in /usr/local/lib/python3.10/dist-packages (from lazy-loader>=0.1->librosa) (24.2)\n",
            "Requirement already satisfied: llvmlite<0.44,>=0.43.0dev0 in /usr/local/lib/python3.10/dist-packages (from numba>=0.51.0->librosa) (0.43.0)\n",
            "Requirement already satisfied: platformdirs>=2.5.0 in /usr/local/lib/python3.10/dist-packages (from pooch>=1.1->librosa) (4.3.6)\n",
            "Requirement already satisfied: requests>=2.19.0 in /usr/local/lib/python3.10/dist-packages (from pooch>=1.1->librosa) (2.32.3)\n",
            "Requirement already satisfied: threadpoolctl>=3.1.0 in /usr/local/lib/python3.10/dist-packages (from scikit-learn>=0.20.0->librosa) (3.5.0)\n",
            "Requirement already satisfied: cffi>=1.0 in /usr/local/lib/python3.10/dist-packages (from soundfile>=0.12.1->librosa) (1.17.1)\n",
            "Requirement already satisfied: pycparser in /usr/local/lib/python3.10/dist-packages (from cffi>=1.0->soundfile>=0.12.1->librosa) (2.22)\n",
            "Requirement already satisfied: charset-normalizer<4,>=2 in /usr/local/lib/python3.10/dist-packages (from requests>=2.19.0->pooch>=1.1->librosa) (3.4.0)\n",
            "Requirement already satisfied: idna<4,>=2.5 in /usr/local/lib/python3.10/dist-packages (from requests>=2.19.0->pooch>=1.1->librosa) (3.10)\n",
            "Requirement already satisfied: urllib3<3,>=1.21.1 in /usr/local/lib/python3.10/dist-packages (from requests>=2.19.0->pooch>=1.1->librosa) (2.2.3)\n",
            "Requirement already satisfied: certifi>=2017.4.17 in /usr/local/lib/python3.10/dist-packages (from requests>=2.19.0->pooch>=1.1->librosa) (2024.8.30)\n"
          ]
        }
      ],
      "source": [
        "!pip install librosa"
      ]
    },
    {
      "cell_type": "code",
      "source": [
        "import scipy.io.wavfile as scp\n",
        "import numpy as np\n",
        "import pandas as pd\n",
        "import math\n",
        "import pyperclip\n",
        "import librosa\n",
        "import librosa.display\n",
        "import matplotlib.pyplot as plt\n",
        "import scipy.interpolate as interpolate\n"
      ],
      "metadata": {
        "id": "vnc0bwrToz9d"
      },
      "execution_count": null,
      "outputs": []
    },
    {
      "cell_type": "code",
      "source": [
        "def lowest_power_of_2(x):\n",
        "    power = math.floor(math.log2(x))\n",
        "    lower_power = 2 ** power\n",
        "    return lower_power\n",
        "\n",
        "def reverse_string(input_string):\n",
        "    return input_string[::-1]"
      ],
      "metadata": {
        "id": "XwIfhWJaqKGr"
      },
      "execution_count": null,
      "outputs": []
    },
    {
      "cell_type": "code",
      "source": [
        "# Function for Gaussian smoothing\n",
        "def apply_gaussian_smoothing(ori_value, new_value, amplitude, sigma=1.0):\n",
        "    \"\"\"Applies Gaussian smoothing based on the difference in amplitude.\"\"\"\n",
        "    if amplitude == 0:\n",
        "        return ori_value  # No change if there's no difference in amplitude\n",
        "    gaussian_kernel = np.exp(-0.5 * (amplitude ** 2) / (sigma ** 2))\n",
        "    smoothed_value = (1 - gaussian_kernel) * ori_value + gaussian_kernel * new_value\n",
        "    return round(smoothed_value)"
      ],
      "metadata": {
        "id": "H8htkgOWIZ2o"
      },
      "execution_count": null,
      "outputs": []
    },
    {
      "cell_type": "code",
      "source": [
        "# Function to perform polynomial smoothing (cubic smoothing)\n",
        "def polynomial_smoothing(samples, degree=3):\n",
        "    smoothed_samples = []\n",
        "    for i in range(1, len(samples) - 1):\n",
        "        # Take the previous, current, and next samples for smoothing\n",
        "        x = np.array([i-1, i, i+1])\n",
        "        y = np.array([samples[i-1], samples[i], samples[i+1]])\n",
        "        # Fit a polynomial of the given degree (e.g., cubic)\n",
        "        coefficients = np.polyfit(x, y, degree)\n",
        "        poly = np.poly1d(coefficients)\n",
        "        smoothed_samples.append(poly(i))\n",
        "    return smoothed_samples\n"
      ],
      "metadata": {
        "id": "rE2oaUcvZK_I"
      },
      "execution_count": null,
      "outputs": []
    },
    {
      "cell_type": "code",
      "source": [
        "process_index = 200"
      ],
      "metadata": {
        "id": "WHl4LgB4uIyc"
      },
      "execution_count": null,
      "outputs": []
    },
    {
      "cell_type": "code",
      "source": [
        "process_index += 1\n",
        "process_index"
      ],
      "metadata": {
        "id": "XkY0_07Hvyax",
        "colab": {
          "base_uri": "https://localhost:8080/"
        },
        "outputId": "670623b3-81d3-41c5-f61e-db8b78e5d49d"
      },
      "execution_count": null,
      "outputs": [
        {
          "output_type": "execute_result",
          "data": {
            "text/plain": [
              "202"
            ]
          },
          "metadata": {},
          "execution_count": 55
        }
      ]
    },
    {
      "cell_type": "markdown",
      "source": [
        "# Embedding\n",
        "## Step 1 - Read audio and sample to 16-bit and normalize audio sample"
      ],
      "metadata": {
        "id": "uzb81QvKqPPE"
      }
    },
    {
      "cell_type": "code",
      "source": [
        "payFilename = '/content/Payload/payload1.txt'\n",
        "wavFilename = '/content/Audio/data1_mono.wav'\n",
        "\n",
        "samplerate, audiodata = scp.read(wavFilename)\n",
        "print(\"\\nEmbedding Process~~~\\n\")\n",
        "print(\"Length of Audio Sample: \", len(audiodata))\n",
        "normaudiodata = [x + 32768 for x in audiodata]"
      ],
      "metadata": {
        "colab": {
          "base_uri": "https://localhost:8080/"
        },
        "id": "aBx2uD8YqMYb",
        "outputId": "f66141df-54b3-4c4a-b1ab-d5f0587044d0"
      },
      "execution_count": null,
      "outputs": [
        {
          "output_type": "stream",
          "name": "stdout",
          "text": [
            "\n",
            "Embedding Process~~~\n",
            "\n",
            "Length of Audio Sample:  132299\n"
          ]
        }
      ]
    },
    {
      "cell_type": "markdown",
      "source": [
        "## Step 2 - Make interpolation sample between each original sample"
      ],
      "metadata": {
        "id": "MoNp9-ghqzcF"
      }
    },
    {
      "cell_type": "code",
      "source": [
        "interpolasi = np.resize(normaudiodata, ((len(normaudiodata)*2)-1))\n",
        "x = 0\n",
        "for i in range(len(interpolasi)):\n",
        "    # Even Sample (Original Sample)\n",
        "    if i % 2 == 0:\n",
        "        interpolasi[i] = normaudiodata[int(i/2)]\n",
        "    # Odd Sample (Interpolation)\n",
        "    else:\n",
        "        interpolasi[i] = math.floor((normaudiodata[int((i-1)/2)] + normaudiodata[i - x]) / 2)\n",
        "        x += 1\n",
        "eInter = interpolasi.copy()\n",
        "\n",
        "# Save Interpolation Audio\n",
        "interpolasi = [x - 32768 for x in interpolasi]\n",
        "scp.write(f'/content/Output/{process_index}-InterAudio-embed.wav', samplerate, np.array(interpolasi, dtype=np.int16))"
      ],
      "metadata": {
        "id": "Kqg4k-JUqy4A"
      },
      "execution_count": null,
      "outputs": []
    },
    {
      "cell_type": "markdown",
      "source": [
        "## Step 3 - Find variable C"
      ],
      "metadata": {
        "id": "GMdNsCJIq4VX"
      }
    },
    {
      "cell_type": "code",
      "source": [
        "# Distance between the interpolated samples and the normalized original samples\n",
        "duration = len(interpolasi) / samplerate\n",
        "C = (duration * 1000)/((len(interpolasi))*2)\n",
        "print(\"C = \", C)"
      ],
      "metadata": {
        "colab": {
          "base_uri": "https://localhost:8080/"
        },
        "id": "QpcZPHpWq6Ff",
        "outputId": "425628ed-c7db-4cdc-e71b-6345a04c606a"
      },
      "execution_count": null,
      "outputs": [
        {
          "output_type": "stream",
          "name": "stdout",
          "text": [
            "C =  0.011337868480725625\n"
          ]
        }
      ]
    },
    {
      "cell_type": "markdown",
      "source": [
        "## Steps 4 and 5 - Embedding Process\n"
      ],
      "metadata": {
        "id": "F970h9lbq8kj"
      }
    },
    {
      "cell_type": "code",
      "source": [
        "median_amplitude = np.median(interpolasi)\n",
        "amplitude_variance = np.var(interpolasi)\n",
        "threshold = median_amplitude + 0.5 * amplitude_variance\n",
        "max_layering = 16"
      ],
      "metadata": {
        "id": "8-WG8YriaWbm"
      },
      "execution_count": null,
      "outputs": []
    },
    {
      "cell_type": "code",
      "source": [
        "def modify_lsb(sample, payload_bit):\n",
        "    lsb_mask = 0b1\n",
        "    modified_sample = (sample & ~lsb_mask) | (payload_bit & lsb_mask)\n",
        "    return modified_sample\n"
      ],
      "metadata": {
        "id": "lfJK0XcQiyT4"
      },
      "execution_count": null,
      "outputs": []
    },
    {
      "cell_type": "code",
      "source": [
        "# def modify_dsss(interpolation_sample, payload_bit, pn_bit):\n",
        "#     if payload_bit == 1:\n",
        "#         return interpolation_sample + pn_bit\n",
        "#     else:\n",
        "#         return interpolation_sample - pn_bit"
      ],
      "metadata": {
        "id": "MjYEHc2D_Vy4"
      },
      "execution_count": null,
      "outputs": []
    },
    {
      "cell_type": "code",
      "source": [
        "# amp = 0.1\n",
        "# delay_short = 100\n",
        "# delay_long = 200\n",
        "\n",
        "# # Fungsi untuk menambahkan echo\n",
        "# def add_echo(signal, delay, amp):\n",
        "#     echo = np.zeros_like(signal)\n",
        "#     echo[delay:] = amp * signal[:-delay]\n",
        "#     return signal + echo"
      ],
      "metadata": {
        "id": "l6-_2EPuBe08"
      },
      "execution_count": null,
      "outputs": []
    },
    {
      "cell_type": "code",
      "source": [
        "# def modify_parity(value, payload_bit):\n",
        "#     \"\"\"\n",
        "#     Modify the parity of the given value to match the payload_bit.\n",
        "#     - value: integer representing the audio sample.\n",
        "#     - payload_bit: 0 or 1, the bit to embed.\n",
        "#     \"\"\"\n",
        "#     parity = bin(value).count('1') % 2  # Calculate parity (0 if even, 1 if odd)\n",
        "#     if parity != payload_bit:\n",
        "#         if value % 2 == 0:\n",
        "#             value += 1\n",
        "#         else:  # If value is odd, make it even\n",
        "#             value -= 1\n",
        "#     return value"
      ],
      "metadata": {
        "id": "tHuUXfXvAkkc"
      },
      "execution_count": null,
      "outputs": []
    },
    {
      "cell_type": "code",
      "source": [
        "with open(payFilename, 'r') as file:\n",
        "    payload = file.read()\n",
        "payload = payload.replace('\\t', '')\n",
        "print(\"Length of Payload : \", len(payload))\n",
        "nSpace = 0\n",
        "interpolasi = eInter.copy()\n",
        "truekey = ''\n",
        "beforeSmoothI = interpolasi.copy()\n",
        "afterSmoothI = interpolasi.copy()\n",
        "for i in range(len(interpolasi)-1):\n",
        "    # Step 5 - Odd number (Interpolation)\n",
        "    if i % 2 != 0:\n",
        "        key = ''\n",
        "        if abs(lowN) == 0:\n",
        "            key += '00'\n",
        "        oriInterpolasi = interpolasi[i]\n",
        "        for x in range(abs(lowN)):\n",
        "            if len(pn) < abs(lowN) and x == len(pn):  # no payload anymore\n",
        "                break\n",
        "            payload_bit = int(pn[x])\n",
        "\n",
        "            interpolasi[i] = modify_lsb(interpolasi[i], payload_bit)\n",
        "\n",
        "            if payload_bit > 0:\n",
        "                key += '11'\n",
        "            elif payload_bit == 0:\n",
        "                key += '10'\n",
        "        beforeSmoothI[i] = interpolasi[i]\n",
        "        afterSmoothI[i] = math.ceil((oriInterpolasi+interpolasi[i])/2)\n",
        "        interpolasi[i] = math.ceil((oriInterpolasi+interpolasi[i])/2)\n",
        "\n",
        "        # Bound checking if the interpolasi [i] exceeds 16 bit format\n",
        "        if interpolasi[i] < 0 or interpolasi[i] > 65535:\n",
        "            interpolasi[i] = oriInterpolasi\n",
        "            afterSmoothI[i] = oriInterpolasi\n",
        "            key = '01'\n",
        "            nSpace-=abs(lowN)\n",
        "        reversed_key = reverse_string(key)\n",
        "        truekey += reversed_key\n",
        "        if nSpace > len(payload) or nSpace == len(payload): # no payload anymore\n",
        "            break\n",
        "\n",
        "    # Step 4 - Even number except last (Original)\n",
        "    elif i < len(interpolasi):\n",
        "        d = math.sqrt((i+1-(i+2))**2+(interpolasi[i]-interpolasi[i+1])**2) # length (d) between the original and interpolated samples\n",
        "        N = math.floor(math.log2(C * d))\n",
        "        if N != 0:\n",
        "            lowN = lowest_power_of_2(abs(N))\n",
        "            # Adaptive threshold\n",
        "            if interpolasi[i] > threshold:\n",
        "                lowN = max(lowN // 2, 1)\n",
        "            else:\n",
        "                lowN = min(lowN * 2, max_layering)\n",
        "        else:\n",
        "            lowN = 0\n",
        "\n",
        "        if len(payload[nSpace:len(payload)]) < lowN: # if the remaining length of the payload is less than lowN\n",
        "            lowN = lowest_power_of_2(len(payload[nSpace:len(payload)]))\n",
        "\n",
        "        if lowN == 0:\n",
        "            lowN = 0\n",
        "            pn = 0\n",
        "            nSpace+=abs(lowN)\n",
        "        elif nSpace < len(payload) and (nSpace + abs(lowN) - 1) < len(payload): # does not exceed the lenght of the payload\n",
        "            pn = payload[nSpace:(nSpace+abs(lowN))]\n",
        "            nSpace+=abs(lowN)\n",
        "        elif nSpace + abs(lowN) > len(payload): # exceed the lenght of the payload\n",
        "            pn = payload[nSpace:len(payload)]\n",
        "            nSpace+=abs(lowN)\n",
        "print(\"Length of Key : \", len(truekey))\n",
        "err = 0\n",
        "for i in range(len(afterSmoothI)):\n",
        "    if afterSmoothI[i] != beforeSmoothI[i]:\n",
        "        err+=1\n",
        "print(\"How many sample difference (before & after smoothing) = \", err)"
      ],
      "metadata": {
        "colab": {
          "base_uri": "https://localhost:8080/"
        },
        "id": "f8H2i8rIq-hN",
        "outputId": "5dd91665-3a47-4125-e9c9-d8297e331982"
      },
      "execution_count": null,
      "outputs": [
        {
          "output_type": "stream",
          "name": "stdout",
          "text": [
            "Length of Payload :  1000\n",
            "Length of Key :  2228\n",
            "How many sample difference (before & after smoothing) =  97\n"
          ]
        }
      ]
    },
    {
      "cell_type": "markdown",
      "source": [
        "## Step 6 - Denormalize and save Stego Audio sample\n"
      ],
      "metadata": {
        "id": "jjdlY4x4rG7I"
      }
    },
    {
      "cell_type": "code",
      "source": [
        "interpolasi = [x - 32768 for x in interpolasi]\n",
        "scp.write(f'/content/Output/{process_index}-StegoAudio-embed.wav', samplerate, np.array(interpolasi, dtype=np.int16))"
      ],
      "metadata": {
        "id": "mT3x-vGirIVp"
      },
      "execution_count": null,
      "outputs": []
    },
    {
      "cell_type": "markdown",
      "source": [
        "## Embedding Results"
      ],
      "metadata": {
        "id": "EX9TgTV3rKH0"
      }
    },
    {
      "cell_type": "code",
      "source": [
        "## Find PSNR value\n",
        "isamplerate, iaudiodata = scp.read(f'/content/Output/{process_index}-InterAudio-embed.wav')\n",
        "fsamplerate, faudiodata = scp.read(f'/content/Output/{process_index}-StegoAudio-embed.wav')"
      ],
      "metadata": {
        "id": "LUY2IRE1rJKT"
      },
      "execution_count": null,
      "outputs": []
    },
    {
      "cell_type": "code",
      "source": [
        "## Show Waveform\n",
        "start_sample = 2\n",
        "end_sample = 10\n",
        "iad = iaudiodata[start_sample:end_sample+1]\n",
        "time1 = (1/isamplerate) * np.arange(start_sample, end_sample+1)\n",
        "fad = faudiodata[start_sample:end_sample+1]\n",
        "time2 = (1/fsamplerate) * np.arange(start_sample, end_sample+1)\n",
        "\n",
        "plt.figure(figsize=(10, 4))\n",
        "\n",
        "plt.subplot(2, 1, 1)\n",
        "plt.plot(time1, iad)\n",
        "plt.plot(time1, iad, '.', markersize=6)\n",
        "for i, value in zip(time1, iad):\n",
        "    plt.text(i, value, f'{value}', fontsize=8, ha='center', va='bottom')\n",
        "plt.xlabel(\"Time (s)\")\n",
        "plt.ylabel(\"Amplitude\")\n",
        "plt.title(\"Waveform of Cover Audio Sample\")\n",
        "\n",
        "plt.subplot(2, 1, 2)\n",
        "plt.plot(time1, fad)\n",
        "plt.plot(time2, fad, '.', markersize=6)\n",
        "for i, value in zip(time2, fad):\n",
        "    plt.text(i, value, f'{value}', fontsize=8, ha='center', va='bottom')\n",
        "plt.xlabel(\"Time (s)\")\n",
        "plt.ylabel(\"Amplitude\")\n",
        "plt.title(\"Waveform of Stego Audio Sample\")\n",
        "\n",
        "plt.tight_layout()\n",
        "plt.show()"
      ],
      "metadata": {
        "colab": {
          "base_uri": "https://localhost:8080/",
          "height": 321
        },
        "id": "EjNLv5uOrVin",
        "outputId": "de0c7dde-24ff-4160-9b94-9fccd908a721"
      },
      "execution_count": null,
      "outputs": [
        {
          "output_type": "display_data",
          "data": {
            "text/plain": [
              "<Figure size 1000x400 with 2 Axes>"
            ],
            "image/png": "[encoded data removed]"
          },
          "metadata": {}
        }
      ]
    },
    {
      "cell_type": "code",
      "source": [
        "# Ensure both signals have the same length\n",
        "min_length = min(len(iaudiodata), len(faudiodata))\n",
        "original_audio = iaudiodata[:min_length]\n",
        "reconstructed_audio = faudiodata[:min_length]"
      ],
      "metadata": {
        "id": "hh_VtY0YrYZC"
      },
      "execution_count": null,
      "outputs": []
    },
    {
      "cell_type": "code",
      "source": [
        "# Calculate the Mean Squared Error (MSE)\n",
        "tes = (original_audio - reconstructed_audio)\n",
        "mse = np.mean(tes ** 2)\n",
        "\n",
        "# Determine the maximum possible value for the audio signal\n",
        "max_possible_value = 2 ** 16\n",
        "\n",
        "# Calculate the PSNR value\n",
        "psnr_value = 10 * np.log10((max_possible_value ** 2) / mse)\n",
        "\n",
        "# pyperclip.copy(psnr_value)\n",
        "print('PSNR value : ', psnr_value)"
      ],
      "metadata": {
        "colab": {
          "base_uri": "https://localhost:8080/"
        },
        "id": "u9xYZGVbrcIZ",
        "outputId": "15d0c400-0332-41ba-bf1f-d024306ce453"
      },
      "execution_count": null,
      "outputs": [
        {
          "output_type": "stream",
          "name": "stdout",
          "text": [
            "PSNR value :  131.86313057366272\n"
          ]
        }
      ]
    },
    {
      "cell_type": "markdown",
      "source": [
        "# Extracting Process\n",
        "## Step 1 - Normalize stego audio\n"
      ],
      "metadata": {
        "id": "-UOEYbN7rh9K"
      }
    },
    {
      "cell_type": "code",
      "source": [
        "print(\"\\nExtracting Process~~~\\n\")\n",
        "normstegodata = [x + 32768 for x in faudiodata]"
      ],
      "metadata": {
        "colab": {
          "base_uri": "https://localhost:8080/"
        },
        "id": "Vb2ogNJprlJn",
        "outputId": "54813616-ecd7-4176-e6a6-ea1ef897f896"
      },
      "execution_count": null,
      "outputs": [
        {
          "output_type": "stream",
          "name": "stdout",
          "text": [
            "\n",
            "Extracting Process~~~\n",
            "\n"
          ]
        }
      ]
    },
    {
      "cell_type": "markdown",
      "source": [
        "## Step 2-1 - Divide sample between odd (changed) and even (non-changed) samples"
      ],
      "metadata": {
        "id": "4pZZOlJxrre5"
      }
    },
    {
      "cell_type": "code",
      "source": [
        "oriSample = np.resize(normstegodata, (int((len(normstegodata)+1)/2)))\n",
        "paySample = np.resize(normstegodata, (int(len(normstegodata)-((len(normstegodata)+1)/2))))\n",
        "for i in range(len(normstegodata)):\n",
        "    # Even samples (original)\n",
        "    if i % 2 == 0:\n",
        "        oriSample[int(i/2)] = normstegodata[i]\n",
        "    # Odd samples (payload-embedded samples)\n",
        "    else:\n",
        "        paySample[int((i-1)/2)] = normstegodata[i]\n",
        "oriSample = [x + 0 for x in oriSample]\n",
        "paySample = [x + 0 for x in paySample]"
      ],
      "metadata": {
        "id": "-hkfmiFVrprB"
      },
      "execution_count": null,
      "outputs": []
    },
    {
      "cell_type": "markdown",
      "source": [
        "## Step 2-2 - Make another sample using interpolation from the divided even samples"
      ],
      "metadata": {
        "id": "IGSNHZvlru1K"
      }
    },
    {
      "cell_type": "code",
      "source": [
        "stegoInterpolasi = np.resize(oriSample, ((len(oriSample)*2)-1))\n",
        "x = 0\n",
        "for i in range(len(stegoInterpolasi)):\n",
        "    if i % 2 == 0:\n",
        "        stegoInterpolasi[i] = oriSample[int(i/2)]\n",
        "    else:\n",
        "        stegoInterpolasi[i] = math.floor((oriSample[int((i-1)/2)]+oriSample[i-x])/2)\n",
        "        x+=1"
      ],
      "metadata": {
        "id": "nwTo4K7wryvT"
      },
      "execution_count": null,
      "outputs": []
    },
    {
      "cell_type": "markdown",
      "source": [
        "## Step 3-1 - Save the interpolation sample and find variable C\n"
      ],
      "metadata": {
        "id": "-iXNIC6pr0pk"
      }
    },
    {
      "cell_type": "code",
      "source": [
        "# Distance between the interpolated samples and the normalized original samples\n",
        "stegoInterpolasi = [x - 32768 for x in stegoInterpolasi]\n",
        "scp.write(f'/content/Output/{process_index}-InterAudio-extract.wav', samplerate, np.array(stegoInterpolasi, dtype=np.int16))\n",
        "stegoDuration = len(stegoInterpolasi) / samplerate\n",
        "sC = (stegoDuration * 1000)/((len(stegoInterpolasi))*2)\n",
        "print(\"C = \", sC)"
      ],
      "metadata": {
        "colab": {
          "base_uri": "https://localhost:8080/"
        },
        "id": "xnJ56v5Ur3k1",
        "outputId": "bd6d0b76-d4a7-4f0a-b26a-c1591e8f0eb0"
      },
      "execution_count": null,
      "outputs": [
        {
          "output_type": "stream",
          "name": "stdout",
          "text": [
            "C =  0.011337868480725625\n"
          ]
        }
      ]
    },
    {
      "cell_type": "markdown",
      "source": [
        "## Steps 3-2 and 4 - Extraction Process\n"
      ],
      "metadata": {
        "id": "9MCUutDnr5Qz"
      }
    },
    {
      "cell_type": "code",
      "source": [
        "# Step 4 - Odd sample (changed sample)\n",
        "stegoInterpolasi = [x + 32768 for x in stegoInterpolasi]\n",
        "spay = ''\n",
        "sAfterSmoothI = normstegodata.copy()\n",
        "xInter = stegoInterpolasi.copy()\n",
        "afterdeSmoothI = stegoInterpolasi.copy()\n",
        "err = 0\n",
        "\n",
        "for z in range(len(stegoInterpolasi)-1):\n",
        "    if z % 2 != 0:  # Step 4 - Odd sample (changed sample)\n",
        "        # Desmooth\n",
        "        if abs(sLowN) == 1 and normstegodata[z] % 2 == stegoInterpolasi[z] % 2:\n",
        "            stegoInterpolasi[z] -= 1\n",
        "            afterdeSmoothI[z] = stegoInterpolasi[z]\n",
        "        elif abs(sLowN) == 1 and normstegodata[z] % 2 != stegoInterpolasi[z] % 2:\n",
        "            stegoInterpolasi[z] += 1\n",
        "            afterdeSmoothI[z] = stegoInterpolasi[z]\n",
        "        elif len(truekey) == 2 and normstegodata[z] % 2 == stegoInterpolasi[z] % 2:\n",
        "            stegoInterpolasi[z] -= 1\n",
        "            afterdeSmoothI[z] = stegoInterpolasi[z]\n",
        "        elif len(truekey) == 2 and normstegodata[z] % 2 != stegoInterpolasi[z] % 2:\n",
        "            stegoInterpolasi[z] += 1\n",
        "            afterdeSmoothI[z] = stegoInterpolasi[z]\n",
        "        else:\n",
        "            stegoInterpolasi[z] = (normstegodata[z]*2) - stegoInterpolasi[z]\n",
        "            afterdeSmoothI[z] = stegoInterpolasi[z]\n",
        "\n",
        "        retpay = ''\n",
        "        if abs(sLowN) == 0 and truekey[:2] == '00':\n",
        "            retpay += ''\n",
        "            truekey = truekey[2:]\n",
        "        elif truekey[:2] == '10':\n",
        "            retpay += ''\n",
        "            truekey = truekey[2:]\n",
        "        else:\n",
        "            for x in range(abs(sLowN)):\n",
        "                if len(truekey) == 0:\n",
        "                    break\n",
        "                elif truekey[:2] == '01':\n",
        "                    retpay += '0'\n",
        "                    truekey = truekey[2:]\n",
        "                    stegoInterpolasi[z] += 1  # Increment the LSB (LSB extraction)\n",
        "                elif truekey[:2] == '11':\n",
        "                    retpay += '1'\n",
        "                    truekey = truekey[2:]\n",
        "                    stegoInterpolasi[z] -= 1  # Decrement the LSB (LSB extraction)\n",
        "\n",
        "        reversed_pay = reverse_string(retpay)\n",
        "        spay += reversed_pay\n",
        "\n",
        "        if len(truekey) == 0:\n",
        "            break\n",
        "\n",
        "    # Step 3-2 - Even sample except last (Original)\n",
        "    elif z < len(stegoInterpolasi):\n",
        "        sd = math.sqrt((z+1-(z+2))**2 + (stegoInterpolasi[z]-stegoInterpolasi[z+1])**2)\n",
        "        sN = math.floor(math.log2(sC * sd))\n",
        "        if sN != 0:\n",
        "            sLowN = lowest_power_of_2(abs(sN))\n",
        "            if stegoInterpolasi[z] > threshold:\n",
        "                sLowN = max(sLowN // 2, 1)\n",
        "            else:\n",
        "                sLowN = min(sLowN * 2, max_layering)\n",
        "        else:\n",
        "            sLowN = 0\n",
        "        if len(truekey)/2 < sLowN:\n",
        "            sLowN = lowest_power_of_2(len(truekey)/2)\n",
        "\n"
      ],
      "metadata": {
        "id": "0-Of9n90r6AV"
      },
      "execution_count": null,
      "outputs": []
    },
    {
      "cell_type": "markdown",
      "source": [
        "## Step 5 - Ensure that the payload retrived and the original payload are the same\n"
      ],
      "metadata": {
        "id": "gxJrLwDesGPM"
      }
    },
    {
      "cell_type": "code",
      "source": [
        "sPayload = \"\".join(str(x) for x in spay)\n",
        "print(\"Length of Retrieved Payload = \", len(sPayload))\n",
        "print(\"Length of Original Payload  = \", len(payload))\n",
        "rpayload = sPayload[:1] + sPayload[1:len(payload)].replace('', '\\t')\n",
        "truepayload = payload[:1] + payload[1:].replace('', '\\t')\n",
        "pc = \",\".join(str(x) for x in payload)\n",
        "\n",
        "oriSample = [x - 32768 for x in oriSample]\n",
        "err = 0\n",
        "for i in range(len(oriSample)):\n",
        "    if oriSample[i] != audiodata[i]:\n",
        "        err+=1\n",
        "print(\"How many error sample (original cover & retrieved sample from stego) = \", err)\n",
        "err = 0\n",
        "for i in range(len(sPayload)):\n",
        "    if sPayload[i] != payload[i]:\n",
        "        err+=1\n",
        "print(\"How many error payload = \", err)\n"
      ],
      "metadata": {
        "colab": {
          "base_uri": "https://localhost:8080/"
        },
        "id": "hl8tqaIZsAKt",
        "outputId": "7e95bf2b-d6cf-4264-eb6e-3ef545a1cc16"
      },
      "execution_count": null,
      "outputs": [
        {
          "output_type": "stream",
          "name": "stdout",
          "text": [
            "Length of Retrieved Payload =  1000\n",
            "Length of Original Payload  =  1000\n",
            "How many error sample (original cover & retrieved sample from stego) =  0\n",
            "How many error payload =  0\n"
          ]
        }
      ]
    },
    {
      "cell_type": "markdown",
      "source": [
        "# Step 6 - Save Payload\n"
      ],
      "metadata": {
        "id": "RBEissPnsKTv"
      }
    },
    {
      "cell_type": "code",
      "source": [
        "with open(f'/content/Output/{process_index}-RetrievedPayload.txt', 'w') as file:\n",
        "    file.write(rpayload)\n",
        "if sPayload[:len(payload)] == payload:\n",
        "    print(\"Payload retrieved successfully.\")\n",
        "else:\n",
        "    # print(\"Fail to get the payload.\")\n",
        "    raise ValueError(\"Fail to get the payload.\")"
      ],
      "metadata": {
        "colab": {
          "base_uri": "https://localhost:8080/"
        },
        "id": "JB02MxRWsSul",
        "outputId": "72b12a87-99b5-43ce-8714-8dccf9d0d997"
      },
      "execution_count": null,
      "outputs": [
        {
          "output_type": "stream",
          "name": "stdout",
          "text": [
            "Payload retrieved successfully.\n"
          ]
        }
      ]
    },
    {
      "cell_type": "markdown",
      "source": [
        "## Step 7 - Denormalize and save Original Audio sample"
      ],
      "metadata": {
        "id": "mHBslLZGsTdk"
      }
    },
    {
      "cell_type": "code",
      "source": [
        "scp.write(f'/content/Output/{process_index}-OriginalAudio-extract.wav', samplerate, np.array(oriSample, dtype=np.int16))\n",
        "ocsamplerate, ocaudiodata = scp.read(f'/content/Output/{process_index}-OriginalAudio-extract.wav')\n",
        "if np.array_equal(ocaudiodata, audiodata):\n",
        "    print(\"Cover retrieved successfully.\")\n",
        "else:\n",
        "    print(\"Cover is not the same as the original.\")"
      ],
      "metadata": {
        "colab": {
          "base_uri": "https://localhost:8080/"
        },
        "id": "JT9RqolFscnQ",
        "outputId": "f9fda5d2-8d60-41a3-a492-08bdccda02ca"
      },
      "execution_count": null,
      "outputs": [
        {
          "output_type": "stream",
          "name": "stdout",
          "text": [
            "Cover retrieved successfully.\n"
          ]
        }
      ]
    },
    {
      "cell_type": "code",
      "source": [],
      "metadata": {
        "id": "kvqLub7mui4I"
      },
      "execution_count": null,
      "outputs": []
    }
  ]
}